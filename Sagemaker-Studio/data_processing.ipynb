{
 "cells": [
  {
   "cell_type": "markdown",
   "id": "b9dbd284",
   "metadata": {},
   "source": [
    "# Data Processing\n",
    "\n",
    "Process data into consistent format for hugging face training script.\n",
    "https://github.com/huggingface/transformers/tree/master/examples/pytorch/summarization"
   ]
  },
  {
   "cell_type": "code",
   "execution_count": 39,
   "id": "6599bdf0",
   "metadata": {},
   "outputs": [
    {
     "name": "stdout",
     "output_type": "stream",
     "text": [
      "Requirement already satisfied: sagemaker in /home/ec2-user/anaconda3/envs/JupyterSystemEnv/lib/python3.6/site-packages (2.60.0)\n",
      "Requirement already satisfied: transformers in /home/ec2-user/anaconda3/envs/JupyterSystemEnv/lib/python3.6/site-packages (4.11.3)\n",
      "Requirement already satisfied: nltk in /home/ec2-user/anaconda3/envs/JupyterSystemEnv/lib/python3.6/site-packages (3.6.5)\n",
      "Requirement already satisfied: importlib-metadata>=1.4.0 in /home/ec2-user/anaconda3/envs/JupyterSystemEnv/lib/python3.6/site-packages (from sagemaker) (4.8.1)\n",
      "Requirement already satisfied: packaging>=20.0 in /home/ec2-user/anaconda3/envs/JupyterSystemEnv/lib/python3.6/site-packages (from sagemaker) (21.0)\n",
      "Requirement already satisfied: attrs in /home/ec2-user/anaconda3/envs/JupyterSystemEnv/lib/python3.6/site-packages (from sagemaker) (21.2.0)\n",
      "Requirement already satisfied: pathos in /home/ec2-user/anaconda3/envs/JupyterSystemEnv/lib/python3.6/site-packages (from sagemaker) (0.2.8)\n",
      "Requirement already satisfied: protobuf>=3.1 in /home/ec2-user/anaconda3/envs/JupyterSystemEnv/lib/python3.6/site-packages (from sagemaker) (3.18.0)\n",
      "Requirement already satisfied: protobuf3-to-dict>=0.1.5 in /home/ec2-user/anaconda3/envs/JupyterSystemEnv/lib/python3.6/site-packages (from sagemaker) (0.1.5)\n",
      "Requirement already satisfied: boto3>=1.16.32 in /home/ec2-user/anaconda3/envs/JupyterSystemEnv/lib/python3.6/site-packages (from sagemaker) (1.18.45)\n",
      "Requirement already satisfied: smdebug-rulesconfig==1.0.1 in /home/ec2-user/anaconda3/envs/JupyterSystemEnv/lib/python3.6/site-packages (from sagemaker) (1.0.1)\n",
      "Requirement already satisfied: numpy>=1.9.0 in /home/ec2-user/anaconda3/envs/JupyterSystemEnv/lib/python3.6/site-packages (from sagemaker) (1.19.5)\n",
      "Requirement already satisfied: google-pasta in /home/ec2-user/anaconda3/envs/JupyterSystemEnv/lib/python3.6/site-packages (from sagemaker) (0.2.0)\n",
      "Requirement already satisfied: pandas in /home/ec2-user/anaconda3/envs/JupyterSystemEnv/lib/python3.6/site-packages (from sagemaker) (0.22.0)\n",
      "Requirement already satisfied: tokenizers<0.11,>=0.10.1 in /home/ec2-user/anaconda3/envs/JupyterSystemEnv/lib/python3.6/site-packages (from transformers) (0.10.3)\n",
      "Requirement already satisfied: filelock in /home/ec2-user/anaconda3/envs/JupyterSystemEnv/lib/python3.6/site-packages (from transformers) (3.3.0)\n",
      "Requirement already satisfied: tqdm>=4.27 in /home/ec2-user/anaconda3/envs/JupyterSystemEnv/lib/python3.6/site-packages (from transformers) (4.62.3)\n",
      "Requirement already satisfied: sacremoses in /home/ec2-user/anaconda3/envs/JupyterSystemEnv/lib/python3.6/site-packages (from transformers) (0.0.46)\n",
      "Requirement already satisfied: regex!=2019.12.17 in /home/ec2-user/anaconda3/envs/JupyterSystemEnv/lib/python3.6/site-packages (from transformers) (2021.10.8)\n",
      "Requirement already satisfied: requests in /home/ec2-user/anaconda3/envs/JupyterSystemEnv/lib/python3.6/site-packages (from transformers) (2.26.0)\n",
      "Requirement already satisfied: pyyaml>=5.1 in /home/ec2-user/anaconda3/envs/JupyterSystemEnv/lib/python3.6/site-packages (from transformers) (5.4.1)\n",
      "Requirement already satisfied: dataclasses in /home/ec2-user/anaconda3/envs/JupyterSystemEnv/lib/python3.6/site-packages (from transformers) (0.8)\n",
      "Requirement already satisfied: huggingface-hub>=0.0.17 in /home/ec2-user/anaconda3/envs/JupyterSystemEnv/lib/python3.6/site-packages (from transformers) (0.0.19)\n",
      "Requirement already satisfied: click in /home/ec2-user/anaconda3/envs/JupyterSystemEnv/lib/python3.6/site-packages (from nltk) (8.0.3)\n",
      "Requirement already satisfied: joblib in /home/ec2-user/anaconda3/envs/JupyterSystemEnv/lib/python3.6/site-packages (from nltk) (1.1.0)\n",
      "Requirement already satisfied: jmespath<1.0.0,>=0.7.1 in /home/ec2-user/anaconda3/envs/JupyterSystemEnv/lib/python3.6/site-packages (from boto3>=1.16.32->sagemaker) (0.10.0)\n",
      "Requirement already satisfied: botocore<1.22.0,>=1.21.45 in /home/ec2-user/anaconda3/envs/JupyterSystemEnv/lib/python3.6/site-packages (from boto3>=1.16.32->sagemaker) (1.21.45)\n",
      "Requirement already satisfied: s3transfer<0.6.0,>=0.5.0 in /home/ec2-user/anaconda3/envs/JupyterSystemEnv/lib/python3.6/site-packages (from boto3>=1.16.32->sagemaker) (0.5.0)\n",
      "Requirement already satisfied: urllib3<1.27,>=1.25.4 in /home/ec2-user/anaconda3/envs/JupyterSystemEnv/lib/python3.6/site-packages (from botocore<1.22.0,>=1.21.45->boto3>=1.16.32->sagemaker) (1.26.6)\n",
      "Requirement already satisfied: python-dateutil<3.0.0,>=2.1 in /home/ec2-user/anaconda3/envs/JupyterSystemEnv/lib/python3.6/site-packages (from botocore<1.22.0,>=1.21.45->boto3>=1.16.32->sagemaker) (2.8.2)\n",
      "Requirement already satisfied: typing-extensions in /home/ec2-user/anaconda3/envs/JupyterSystemEnv/lib/python3.6/site-packages (from huggingface-hub>=0.0.17->transformers) (3.10.0.2)\n",
      "Requirement already satisfied: zipp>=0.5 in /home/ec2-user/anaconda3/envs/JupyterSystemEnv/lib/python3.6/site-packages (from importlib-metadata>=1.4.0->sagemaker) (3.5.0)\n",
      "Requirement already satisfied: pyparsing>=2.0.2 in /home/ec2-user/anaconda3/envs/JupyterSystemEnv/lib/python3.6/site-packages (from packaging>=20.0->sagemaker) (2.4.7)\n",
      "Requirement already satisfied: six in /home/ec2-user/anaconda3/envs/JupyterSystemEnv/lib/python3.6/site-packages (from protobuf3-to-dict>=0.1.5->sagemaker) (1.16.0)\n",
      "Requirement already satisfied: pytz>=2011k in /home/ec2-user/anaconda3/envs/JupyterSystemEnv/lib/python3.6/site-packages (from pandas->sagemaker) (2021.1)\n",
      "Requirement already satisfied: multiprocess>=0.70.12 in /home/ec2-user/anaconda3/envs/JupyterSystemEnv/lib/python3.6/site-packages (from pathos->sagemaker) (0.70.12.2)\n",
      "Requirement already satisfied: pox>=0.3.0 in /home/ec2-user/anaconda3/envs/JupyterSystemEnv/lib/python3.6/site-packages (from pathos->sagemaker) (0.3.0)\n",
      "Requirement already satisfied: ppft>=1.6.6.4 in /home/ec2-user/anaconda3/envs/JupyterSystemEnv/lib/python3.6/site-packages (from pathos->sagemaker) (1.6.6.4)\n",
      "Requirement already satisfied: dill>=0.3.4 in /home/ec2-user/anaconda3/envs/JupyterSystemEnv/lib/python3.6/site-packages (from pathos->sagemaker) (0.3.4)\n",
      "Requirement already satisfied: charset-normalizer~=2.0.0 in /home/ec2-user/anaconda3/envs/JupyterSystemEnv/lib/python3.6/site-packages (from requests->transformers) (2.0.6)\n",
      "Requirement already satisfied: certifi>=2017.4.17 in /home/ec2-user/anaconda3/envs/JupyterSystemEnv/lib/python3.6/site-packages (from requests->transformers) (2021.5.30)\n",
      "Requirement already satisfied: idna<4,>=2.5 in /home/ec2-user/anaconda3/envs/JupyterSystemEnv/lib/python3.6/site-packages (from requests->transformers) (3.1)\n"
     ]
    }
   ],
   "source": [
    "!pip install sagemaker transformers nltk --upgrade"
   ]
  },
  {
   "cell_type": "code",
   "execution_count": 41,
   "id": "af92d310",
   "metadata": {},
   "outputs": [],
   "source": [
    "import json\n",
    "from tqdm import tqdm"
   ]
  },
  {
   "cell_type": "code",
   "execution_count": 42,
   "id": "7cd21151",
   "metadata": {},
   "outputs": [
    {
     "name": "stdout",
     "output_type": "stream",
     "text": [
      "Total 35 meetings in the test set.\n"
     ]
    }
   ],
   "source": [
    "split = 'test'\n",
    "data_path = '/home/ec2-user/SageMaker/QMSum/data/ALL/jsonl/' + split + '.jsonl'\n",
    "data = []\n",
    "with open(data_path) as f:\n",
    "    for line in f:\n",
    "        data.append(json.loads(line))\n",
    "n_meetings = len(data)\n",
    "print('Total {} meetings in the {} set.'.format(n_meetings, split))"
   ]
  },
  {
   "cell_type": "code",
   "execution_count": 43,
   "id": "33cdc254",
   "metadata": {},
   "outputs": [],
   "source": [
    "from nltk import word_tokenize\n",
    "\n",
    "def tokenize(sent):\n",
    "    tokens = ' '.join(word_tokenize(sent.lower()))\n",
    "    return tokens"
   ]
  },
  {
   "cell_type": "code",
   "execution_count": 44,
   "id": "2c662917",
   "metadata": {},
   "outputs": [],
   "source": [
    "# filter some noises caused by speech recognition\n",
    "def clean_data(text):\n",
    "    text = text.replace('{ vocalsound } ', '')\n",
    "    text = text.replace('{ disfmarker } ', '')\n",
    "    text = text.replace('a_m_i_', 'ami')\n",
    "    text = text.replace('l_c_d_', 'lcd')\n",
    "    text = text.replace('p_m_s', 'pms')\n",
    "    text = text.replace('t_v_', 'tv')\n",
    "    text = text.replace('{ pause } ', '')\n",
    "    text = text.replace('{ nonvocalsound } ', '')\n",
    "    text = text.replace('{ gap } ', '')\n",
    "    return text"
   ]
  },
  {
   "cell_type": "code",
   "execution_count": 45,
   "id": "d12f2634",
   "metadata": {},
   "outputs": [
    {
     "name": "stderr",
     "output_type": "stream",
     "text": [
      "[nltk_data] Downloading package punkt to /home/ec2-user/nltk_data...\n",
      "[nltk_data]   Package punkt is already up-to-date!\n"
     ]
    },
    {
     "data": {
      "text/plain": [
       "True"
      ]
     },
     "execution_count": 45,
     "metadata": {},
     "output_type": "execute_result"
    }
   ],
   "source": [
    "import nltk\n",
    "nltk.download('punkt')"
   ]
  },
  {
   "cell_type": "code",
   "execution_count": 46,
   "id": "3aadd70f",
   "metadata": {},
   "outputs": [
    {
     "name": "stderr",
     "output_type": "stream",
     "text": [
      "100%|██████████| 35/35 [00:04<00:00,  7.41it/s]"
     ]
    },
    {
     "name": "stdout",
     "output_type": "stream",
     "text": [
      "Total 35 query-summary pairs in the test set\n",
      "{'text': \"marketing: okay . project manager: 'kay so we 'll try to zip through this , since we 're short on time . welcome everybody . um hope your sessions went well . um so this is our functional design meeting , we 're going to consider um user needs , technical effects , and the working design of our remote control . um i 've been taking meetings on the minute minutes on the meetings , and i 'll be putting them in the shared documents folder so if there 's anything you need to refer to you can find them in there . um i i 'll get the ones up for next time , um they 're not finished yet . right . um so can we have updates from everyone from what you 've worked on just kind of a quick summary of anything interesting that you 'd like to share or discuss in this marketing: and i can start if you want . mm . project manager: sure . marketing: is there an order ? no . project manager: hm ? marketing: we have n't decided on an order . project manager: no , any any order 's fine . yeah . marketing: first . okay . um , how do i put this industrial designer: just uh marketing: i 'll just put the cable in . project manager: oh yeah , sorry . marketing: is that it ? can you see ? oh , here . okay . so what happens it does n't work ? project manager: it sh it takes a few seconds i think . industrial designer: you may need to user interface: who 's that ? marketing: user interface: marketing: no . industrial designer: but sometimes you have to do it marketing: is it in the right thing ? industrial designer: it 's like a three set setting cycle , so press it a couple times , hold down function and then press f_ eight . marketing: oh wait , um . uh . you need to help me . project manager: uh-huh , and then press function . marketing: project manager: and f_ eight . marketing: yeah . user interface: could you just plug it back into hers because she had marketing: oh , wait . user interface: oh . marketing: that 's is that it ? industrial designer: adjusting . project manager: here we are . industrial designer: the cable might be a little loose or something . oh , you got it . marketing: right here we are . project manager: oh . is it on ? marketing: we 're here . project manager: okay . marketing: okay , um . in order to see what the functional requirements were to be found , um a hundred people were tested in a usability laboratory through just their habits to n know their habits were observed and questionnaires were given out . um , the findings in in some cases matched what we were talking about . custome customers and users do n't like the way remote controls look , they do n't like the way they feel , they do n't think they match their operating behaviour , and an example is what we were talking about , the buttons , they only use ten per cent of the buttons , so later on there 's a study of the buttons that they use most and i think we should design according to these buttons . easy to lose , and r_s_i_ . i do n't know what r_s_i_ means . um the person that did the questionnaire obviously did , i do n't have a clue . project manager: hm . marketing: um , according to the frequency of use and the relevance of each buttons , i have made a list of the buttons that we should focus on in order of importance . so the most important buttons are those to do with channel selection . they 're used about a hundred and sixty times per hour . and um yeah so and and people like to zap a lot apparently , so this is the order . channel selection , teletext , volume , and power . the other ones are the settings , and they 're used less than you know zero point eight to zero point five times per hour , and this means that i think we can we could have like a a button for all the settings , and then , just one , and then from there go on to the audio on the screen , either on the remote or on the television . um , about the screen , and speech recognition , some people are more willing than others to actually pay for that . and if we look at the market , f people from well from fifteen to thirty five year old year olds , i do n't really know how to describe this , um ninety one to seventy six percent of people in that age range are willing to pay more for this sort of product , while people that are above thirty five years ol um years old go from thirty five percent to eight percent , so people that are sixty five for example would n't actually pay for this sort of thing . um i do n't i do n't know um what the decision to be made is , but i think that the people that actually do buy remotes m more are those like teenagers and young professionals and um , most likely , but we should discuss this together . and that 's all i have to say about the matter , um . project manager: 'kay . marketing: shall i what do i do ? do i give this to someone else ? project manager: yeah . just move right on . user interface: right . so get this . okay so now i need to press f_ eight , what is it ? project manager: uh function f_ eight . marketing: function f_ eight . user interface: 'kay . what 's function ? project manager: it 's the little blue w it 's the one th user interface: oh function , i see it . project manager: yeah . yeah should be user interface: there we go . project manager: it should be yeah . user interface: okay . um . this my presentation about the uh technical functions design and i basically just tried to focus on um just what what functions we need and how to make that the best function for the user . so uh and i just sort of like thought about it myself and looked on the internet . project manager: user interface: and okay so basically um i think i uh like it is really important that we sort of get this done in a user friendly and fashionable way . um so i think things like uh you know keeping buttons together that like close together that um are used in the same way , uh or um maybe that making 'em the same colour , keeping the number of buttons the uh leas you know to a minimum , and also things like is it is it um is it uh can you c y small enough large enough i 'm not sure we c i guess we would need to do some research about , i would , about what size is appropriate and that sort of thing , um but basically we need to make sure that it turns on and off the tv . does it have like capacity to change the channels ? um does it do or do we need to have like functions for cable or v_c_r_ ? and then , is it findable , and uh how do we wan na do that ? and um i just thought that these two remotes were pretty boring , um i dunno if this will work but and i think we can find something that 's more fun to look at and use than either of those . just i mean i like the one on the right better , just because it does have fewer buttons , uh but i mean i think we sh can sort of think about things like um like colour and you know size , shapes , that sort of thing , to best fit the user . that concludes my presentation . project manager: user interface: okay . you need the little thingy . ooh . industrial designer: how do i um marketing: s that 's on view . industrial designer: right . marketing: oh . industrial designer: okay so this is on the working design , which is sort of the uh mechanical functions of the remote , um and the method i used was to basically look at existing designs and incorporate ideas from our last meeting . um so i think we need two basic functions which is just the basic remote functions , the user can input a channel or volume setting and it will be output to the tv . and also we talked about um a location function where maybe you could press a button on the tv and it would send sort of signal to the remote where it would beep or flash or vibrate or whatever to tell you where the remote is . so the components we need are an energy source to power the remote , um input which would probably be buttons , although um we just talked about voice recognition , processor to take the information , um something to transmit it to the tv , and we also need something on the remote that would receive the location signal and have an output , like possibly a beep or a vibration . and also you need a sender for location signal , which would probably be a separate um thing that we 'd have to sell with the remote and people could stick it on their tv or stick it on their wall . and this is just sort of an overview of how the remote works . power comes from the battery , goes to the chip , um and then it is sent from there to an infrared bulb which is probably the easiest way to send to the tv . and then for the location function , you would have a sender on the tv which would output some sort of signal , um we could use i_r_ but we 'd probably wan na use radio instead . that signal would go to a receiver which it would process it , and it would be output in the form of a buzzer or a light lighting up . um so my personal preferences for how to build the remote would probably be uh , battery for the energy source , that way you would n't have to plug it in , um a button pad for input , um we can purchase a pre-made chip which will handle all the processing stuff , i_r_ transmitter to communicate to the tv , that 's just sort of standard , um so most tvs have an i_r_ receiver . probably a radio receiver to send out location function and to receive it and i 'd probably say a buzzer for the location function on the remote itself . so that concludes my presentation . project manager: 'kay . user interface: do you know about like industrial designer: mm ? user interface: i dunno , you seem like you know about industrial designer: yeah , uh i d i was an engineer before i came here . user interface: okay . cool . project manager: okay . well thank you everybody . um we have we 'll discuss that and then i just wan na mention some new project requirements that came in . um , teletext is apparently outdated , so due to internet popularity , so that 's off the list . um , industrial designer: project manager: also our remote should be used only for television , um , no extra internet kinda fancy things , just the remote and the television . um and also we need to incorporate our corporate image onto this , so um the phrase is , we put fashion in electronics , so let 's be fashionable i guess . um if we have something i mean silver and and gold or yellow are our colours , so if we had a like a kind of silver one like you saw , and yellow writing , something like that . okay . um . so we need to make some decisions on the remote control functions . um , yeah . do let 's industrial designer: project manager: i guess we should yeah make some kind of brainstorming , see what we can user interface: like in terms of marketing: how it looks or user interface: how it looks , or like what it does ? project manager: wha what um well probably our target group and how it 's gon na going to appeal to our target group and i dunno the the s user interface: okay . project manager: the buttons and what it does and that sort of thing . so . user interface: yeah . okay . so is our target group then people so do we wan na go ahead and design this thing with the finder button ? project manager: i think that seems to yeah . mm . user interface: so industrial designer: it 's easy to implement . user interface: okay . so the marketing: the the buzzer you mean , user interface: yeah , yeah , yeah . industrial designer: locator . marketing: yeah , for sure , yeah . user interface: so then our target age group would be the nineteen to thirty five range , project manager: yeah , teenagers and young professionals . user interface: what was it ? marketing: well that 's for speech recognition . project manager: oh , uh . industrial designer: well user interface: oh . marketing: and screen . that 's only for speech recognition and screen . industrial designer: i was thinking about that but uh i mean speech recognition is really hard to programme , project manager: yeah . industrial designer: and also , if the tv is on it 's making sound and the people on the tv are talking , and if somebody says like one , then the tv 's gon na switch itself to channel one , marketing: yeah yeah yeah . project manager: mm . industrial designer: or it seems like a silly , user interface: yeah . marketing: i mean industrial designer: i 'm not sure how you would implement it . user interface: yeah . marketing: i just put the values in . industrial designer: project manager: and if if you consider our budget , it probably user interface: marketing: but um the screen is the same as what , industrial designer: it 's a cool idea but project manager: if you consider our budget , to h have speech recognition programmed in every single remote might be a little pricey . user interface: yeah . marketing: yeah , i 'm happy with that . project manager: yeah . industrial designer: project manager: right so um yeah . user interface: hu yeah . marketing: completely . user interface: okay so are we gon na have just some kind of a like we 'll have the buzzer on the som like on the tv itself . industrial designer: well you would have to have a button on a tv or on your wall or some place since the tv already has power . marketing: yeah . project manager: yeah . user interface: yeah . industrial designer: yeah you click the button , it 's gon na send out a signal , and i was thinking , i_r_ is line of sight , so unless the remote is like actually in front of the tv it 's not gon na work , um so probably like a radio signal like on a on a cell phone . user interface: okay . okay . marketing: yeah . project manager: okay . industrial designer: sends out a signal and then the the remote hears the signal and so it beeps probably . user interface: alright . marketing: okay . user interface: okay . project manager: so you you 'd need like a separate base for that or like something you can industrial designer: it would have to be sold separately because if the sender 's on the remote then you 'd have to find the remote first to click the button to find the remote . project manager: right . yeah , yeah . marketing: so do you plug it in the t_ you plug it in tv , this thing ? industrial designer: yeah , it 'd probably just stick it on your tv so if you need to find the remote , click the button . marketing: okay . okay . user interface: so it 's now like a two-part thing . industrial designer: yeah , so it would be a two part package . user interface: okay . alright . marketing: okay . user interface: so we get to design that too . industrial designer: user interface: make it fashionable . um , okay . project manager: so do you think even though we 're not talking about speek speech recognition our target group should still be teenagers and young professionals . industrial designer: yeah i think so . marketing: yeah . just there . project manager: huh . okay . marketing: mm . are we um should that thing be on the thing to put the you s you talking about a home for it . project manager: yeah . marketing: do you still want to build a little thing next to the telly or to p hang on the wall or shall we leave that for now ? project manager: we probably leave that . i mean i guess one takes care of the other , like um if you can yeah if you can call it then it 's marketing: okay . user interface: yeah . then it can live anywhere . project manager: yeah . industrial designer: user interface: yeah . marketing: okay . for the so you have that button , that so there 's is there a light or shall we leave just have a radio ? industrial designer: um on the tv or on the phone ? marketing: are we just having a radio ? on the phone . industrial designer: um it seemed like a a beep seemed the most reasonable to me , user interface: t marketing: you do n't need a light . yeah yeah yeah . project manager: yeah . industrial designer: i think that 's what the phone has , marketing: yeah yeah . project manager: yeah . industrial designer: i mean when you need to find your phone , you just have someone call it and it starts ringing somewhere and then you can figure out that it 's in the couch or wherever . project manager: and like if the if the phone 's under the couch , you might not see the light , so marketing: you can hear it 's under the couch yeah . project manager: yeah . user interface: so i yeah . marketing: um , so need the other buttons . so we have this mm . project manager: so i mean the two remotes that you had shown r i do n't remember who showed them , yeah you you did um , industrial designer: user interface: that was that was me . marketing: mm-hmm . project manager: they 're i mean one looked like it was for v_c_r_ type thing , and the other looked like just television . user interface: i think w i think they 're both sort of just like general remo they 're both general remotes . project manager: oh really . 'cause that that is something we have to decide , is whether we want to have v_c_r_ capabilities . user interface: and uh industrial designer: does anyone know if v_c_r_s are the same across international ? user interface: yeah . project manager: they 're not no . marketing: they 're not , no . industrial designer: okay , so you 'd need like a whole different set of buttons for everybody 's v_c_r_s . user interface: s project manager: yeah , that 's right , yeah . marketing: it not v_h_s_ here ? project manager: but d_v_d_ probably is . industrial designer: yeah , other than that region and coding thing . user interface: um project manager: and and if we 're if we 're targeting young professionals and teenagers , i mean it 's gon na be d_v_d_ type , that 's the the technology these days . marketing: but v_c_r_s yeah . yeah , for sure . industrial designer: mm-hmm . user interface: yeah . so . okay , let 's see if i can i think still though , it should n't be that hard to take like just reduce the number of buttons you know , project manager: yeah . user interface: like 'cause if you just have like one menu button , that works like with a you know , or you can just kind of scroll through the options u that come up on the tv . project manager: yeah . marketing: well for sure we need the um i think we can just design the channels ? i mean power 's just a button , and it 's not used that much , project manager: s user interface: yeah . project manager: huh . industrial designer: mm-hmm . user interface: yeah . marketing: s and it 's usually that red user interface: yeah . marketing: and i think it 's quite nice to keep it like red . user interface: yeah . project manager: you know , i 've seen some remotes that where you just hold one , like if you hold one down it 's it 's a different colour than the other buttons but that turns it on . so you do n't actually have a separate power button , it 's just marketing: oh okay , yeah . user interface: it seems like that would be hard though . project manager: but user interface: i mean , like because unless you know project manager: it might be confusing . yeah . user interface: yeah . just 'cause i would n't i would probably pick it up and just be like uh why is there no on button . project manager: yeah . besides you like to be able to go power . industrial designer: yeah , i never think to hold something down . marketing: yeah . project manager: i have the power user interface: yeah . b yeah . project manager: i guess . so we definitely want a power button and numbers . right . user interface: yeah . marketing: well even um ipod thing , like um , i do n't know if people like this but if you want to reduce the number , of buttons , instead of having like one to nine , have a sort of user interface: that sort of like joystick flat touch thing , yeah . marketing: scrolling i do n't know . project manager: mm . industrial designer: marketing: yeah . because people li seem now the ipod 's out people seem to like this thing that there 's no know you do n't have one two three four five user interface: yeah , yeah . i think that 's an interesting idea , 'cause it 's cool , project manager: mm . user interface: it 's it 's funny like you f like i just i do n't have an ipod but like i , you know , i just like started messing around with one of my friend 's the other day , and you just sort of and it 's funny how you pick it up and you just figure out how to use it quite easily , like it 's not that hard , you know . project manager: yeah . marketing: yeah yeah , it 's just and it 's one thing which has everything . user interface: yeah , and it is yeah . it is really but do you need a screen then , do you have to have a screen then ? marketing: well ca n't it tell the like ca n't you if you industrial designer: yeah , you can have the number going around in the corner . user interface: yeah . okay . marketing: you can have the number on the telly going like one two three four five once you scroll and then user interface: yeah . yeah . okay so we have this like scrolling sort of button . project manager: oh that 's gon na is that like on on a mouse pad where like kind of user interface: like a disc . yeah . yeah . it 's like it 's just like the same technology as a mouse pad . project manager: okay . i 've never used one . no . marketing: it 's like l this like that , and then you do that . project manager: okay . okay . user interface: yeah . yeah and then . marketing: and then you can have um if you actually just want to zap , you can have like a thing like that , and that , and then it can just be plus and minus . user interface: okay . so like it 's like a little part of the circle that or it oh so it 's just a region of the circle that you can marketing: yeah , you can project manager: well i user interface: zap . marketing: yeah , click o actually click on to have user interface: okay . project manager: we could we could even have four buttons , like , if that 's the if that 's the mouse , you could have the volume and the channel changers just like on that as well . marketing: yeah . user interface: yeah . so volume could be like the top it and the bottom so do you need to industrial designer: does n't it rotate though , user interface: okay . industrial designer: so it 'll be moving around . user interface: well y you have to you have to like be able to change the function of it to like marketing: what do you mean the function ? user interface: i mean like okay , 'cause so i dunno , i guess okay so when you g scroll your thumb like around it , it 'll s like say you 're go you 're going clockwise . that that means you 're gon na go up the channels , and then you scroll the other way and it 'll go down . marketing: yeah . industrial designer: mm-hmm . user interface: but then marketing: yeah . user interface: so if you wan na switch to the to u do you have to switch to a function where like y so you 're either in that mode or you 're in the mode where like it just has like the four like you know this is channel that way , that 's that way and volume is up and down . marketing: yeah but it knows for some reason . user interface: it just marketing: the ipod knows . user interface: it just kno the ipod knows . s project manager: industrial designer: if it works on an ipod then it works . marketing: project manager: huh . user interface: yeah . so you just you just can either do this or like you can just touch it if you want . industrial designer: i do n't have one . marketing: well for the volume you have to press the middle , and then go up . user interface: okay . that 's what i mean . okay . okay so you have to like press this middle region and then you can scroll up , go up and down . industrial designer: oh . project manager: so it 's like holding marketing: and then well if you do that it goes , but if you like that makes more sense 'cause there 's already ones with up and down here , that i 've seen . project manager: you can o and you you is there an extra actual button ? or are you actually you 're just using the mouse to go up and down . marketing: well what you project manager: like user interface: it 's like a b marketing: for the ipod you press an w right if you 're on the channel let 's say , then you press on the middle and then if you do that again the volume goes up , and if you do that it goes down . project manager: mm-hmm . mm-hmm . right . mm-hmm . marketing: but if you wan na keep it with volume here and here , i 'm pretty sure project manager: well i mean if if you 're gon na this for channels , right , then y would n't the volume need to be separate somehow ? marketing: yeah . project manager: like you could just have marketing: i do n't know , project manager: oh , like marketing: you could click and then have it up and down , project manager: oh you could actually user interface: like marketing: but i think user interface: i think we can go on the fact that it does just work with the ipod . marketing: yeah yeah yeah . project manager: yeah . industrial designer: yeah . user interface: but the only thing is like , ipods are so expensive , like , it has to be is that part of project manager: is that what makes them expensi i think it 's all of industrial designer: i do n't think so . user interface: yeah , i dunno , i dunno . project manager: they have so much memory though , that 's it 's user interface: you do n't think so ? okay . industrial designer: i do n't think it 's the wheel dealy . marketing: i think it project manager: yeah . i think it 's the uh h it 's their capabili i mean they it can hold what like five thousand songs or something . user interface: okay . marketing: yeah . industrial designer: yeah . . user interface: yeah . i 'm thinking we could if if we 're hav so ba i mean but an ipod just has that circle thing you know . industrial designer: and they 're re-programmable are n't they ? project manager: yeah . industrial designer: you can put on your songs and then put on a different set , project manager: yeah . yeah . industrial designer: that 's probably why they 're expensive , they 're like little computers . user interface: yeah . project manager: s user interface: yeah . well like since it just has the circle thing , you could make it a qui a kind of cool shape , like it could be a cool sort of you know , because it could be circular , you know , or something weird like that , just marketing: yeah . industrial designer: mm-hmm . marketing: yeah yeah yeah . well it could just be simple instead of being a l mass . because , the other thing , i did n't tell you all my presentation , is that people find it find that it 's a big waste of time to have to learn how to use your remote user interface: yeah . marketing: and that 's another thing they complained about . project manager: mm . user interface: yeah . marketing: um , what other buttons were there ? volume oh we 've ts just said that . user interface: so okay . marketing: channel selection . user interface: this is just for tv , it 's not for or it is does need to be compatible with project manager: um industrial designer: i a d_v_d_ is simple , you just have play , pause , eject , user interface: yeah . project manager: you know actually our our new project requirements , i 'm not sure if they meant o onl use only for television as in not for d_v_d_ or just not internet type things . user interface: so how do you switch marketing: menu . industrial designer: and menu maybe . oh yeah . project manager: so i 'll i 'll check that and update you on the next user interface: okay . so like if we had that project manager: but we 'll hold off on that 'cause user interface: yeah . project manager: but s yeah uh . marketing: but d_v_d_ players usually have their own remote . user interface: that 's true , yeah . project manager: yeah . user interface: so , i know i 'm not c really clear on what industrial designer: but it 's cool to have it all on one , because you wan na turn it on then you wan na turn up the volume , and then you wan na go to the menu , so you do n't wan na switch . user interface: yeah , yeah . marketing: yeah , yeah , yeah . project manager: mm . mm . user interface: so you 'd have to have like marketing: yeah . user interface: i think you would have to have like a function switch button , you know somewhere so like you can you 're either on tv , you 're on d_v_d_ or you 're on v_c_r_ , or you 're like . so project manager: yeah . industrial designer: well but d_v_d_ is only like four buttons . user interface: yeah , marketing: yeah , it is only fun user interface: but i mean like to switch the fun so like to switch the function of the little circle disc , the touch pad . project manager: but i yeah . industrial designer: oh . but i think the circle only does channel is n't applicable to d_v_d_ really 'cause you do n't wan na user interface: yeah but it it would be industrial designer: but volume is and volume is actually controlled on the tv so you do n't have to switch . user interface: so but i 'm saying like , does it make sense to have like some kind of a button , so like you 're if you 're on tv , like you can switch channels , but then if uh if you 're on d_v_d_ then like the channel bu like the the region of the disc that was for channels is for like switching to different tracks or s you know , to different i mean do we need to think about that , project manager: um , yeah , let 's think about it user interface: that like industrial designer: yes we can try that . project manager: 'cause we need to wrap up . user interface: project manager: { vocalsound }\", 'summary': 'the meeting started by discussing the functional design of the remote control . marketing gave the study on user needs and target groups . user interface gave the presentation on technical effect design and industrial designer gave the presentation on working design . then project manager initiated new project requirements brainstorming . the group had agreed on the on-call button design , dvd capability button design , power button design , and denied speech recognition design as well as mouse pad design . they would further discuss the function switch button and its compatibility in the next meeting .'}\n"
     ]
    },
    {
     "name": "stderr",
     "output_type": "stream",
     "text": [
      "\n"
     ]
    }
   ],
   "source": [
    "# process data for BART\n",
    "# the input of the model here is the entire content of the meeting\n",
    "processed_data = []\n",
    "for i in tqdm(range(len(data))):\n",
    "    # get meeting content\n",
    "    text = []\n",
    "    for k in range(len(data[i]['meeting_transcripts'])):\n",
    "        cur_turn = data[i]['meeting_transcripts'][k]['speaker'].lower() + ': '\n",
    "        cur_turn = cur_turn + tokenize(data[i]['meeting_transcripts'][k]['content'])\n",
    "        text.append(cur_turn)\n",
    "    text = ' '.join(text)\n",
    "    text = clean_data(text)\n",
    "    \n",
    "    summary = data[i]['general_query_list'][0]['answer']\n",
    "    summary = tokenize(summary)\n",
    "    \n",
    "    processed_data.append({'text': text, 'summary': summary})\n",
    "        \n",
    "print('Total {} query-summary pairs in the {} set'.format(len(processed_data), split))\n",
    "print(processed_data[2])\n",
    "with open('data_' + split + '.jsonl', 'w') as f:\n",
    "    for i in range(len(processed_data)):\n",
    "        print(json.dumps(processed_data[i]), file=f)"
   ]
  }
 ],
 "metadata": {
  "kernelspec": {
   "display_name": "conda_amazonei_pytorch_latest_p36",
   "language": "python",
   "name": "conda_amazonei_pytorch_latest_p36"
  },
  "language_info": {
   "codemirror_mode": {
    "name": "ipython",
    "version": 3
   },
   "file_extension": ".py",
   "mimetype": "text/x-python",
   "name": "python",
   "nbconvert_exporter": "python",
   "pygments_lexer": "ipython3",
   "version": "3.6.13"
  }
 },
 "nbformat": 4,
 "nbformat_minor": 5
}
